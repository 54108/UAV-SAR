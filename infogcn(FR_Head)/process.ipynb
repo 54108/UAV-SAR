{
 "cells": [
  {
   "cell_type": "code",
   "execution_count": 4,
   "metadata": {},
   "outputs": [
    {
     "name": "stdout",
     "output_type": "stream",
     "text": [
      "[ Tue Jul  9 16:26:12 2024 ] using warm up, epoch: 5\n",
      "[ Tue Jul  9 16:26:15 2024 ] Parameters:\n",
      "{'device': 'cuda:0', 'work_dir': './work_dir/temp', 'config': './config/uav_csv1/FR_Head_1.yaml', 'debug': False, 'log_dir': '.', 'model_saved_name': '', 'noise_ratio': 0.5, 'data_path': '../data/uav/MMVRAC_CSv1.npz', 'n_desired': 40000, 'num_point': 17, 'num_person': 2, 'num_class': 155, 'window_size': 64, 'use_vel': False, 'use_angle': False, 'phase': 'train', 'save_score': False, 'seed': 1, 'log_interval': 100, 'save_interval': 100, 'save_epoch': 90, 'eval_interval': 5, 'print_log': True, 'show_topk': [1, 5], 'feeder': 'feeders.feeder_uav.Feeder', 'num_worker': 4, 'balanced_sampling': False, 'random_rot': True, 'repeat': 1, 'weights': None, 'ignore_weights': [], 'n_heads': 3, 'k': 1, 'z_prior_gain': 3, 'graph': 'graph.uav.Graph', 'in_channels': 3, 'cl_mode': 'ST-Multi-Level', 'w_cl_weights': 0.1, 'base_lr': 0.1, 'step': [90, 100], 'optimizer': 'SGD', 'nesterov': True, 'batch_size': 128, 'test_batch_size': 128, 'start_epoch': 0, 'num_epoch': 110, 'weight_decay': 0.0005, 'lr_decay_rate': 0.1, 'warm_up_epoch': 5, 'lambda_1': 0.0001, 'lambda_2': 0.1, 'focal_loss': False, 'half': True}\n",
      "\n",
      "[ Tue Jul  9 16:26:15 2024 ] # Parameters: 2115246\n",
      "[ Tue Jul  9 16:26:15 2024 ] Training epoch: 1\n",
      " 68%|████████████████████████████▊             | 89/130 [01:37<00:35,  1.17it/s]^C\n",
      " 68%|████████████████████████████▊             | 89/130 [01:37<00:44,  1.09s/it]\n",
      "Traceback (most recent call last):\n",
      "  File \"/mnt/bs_nsl/workspace/UAV-SAR/infogcn(FR_Head)/main.py\", line 470, in <module>\n",
      "    processor.start()\n",
      "  File \"/mnt/bs_nsl/workspace/UAV-SAR/infogcn(FR_Head)/main.py\", line 411, in start\n",
      "    self.train(epoch)\n",
      "  File \"/mnt/bs_nsl/workspace/UAV-SAR/infogcn(FR_Head)/main.py\", line 268, in train\n",
      "    mmd_loss, l2_z_mean, z_mean = get_mmd_loss(z, self.model.z_prior, y, self.arg.num_class)\n",
      "  File \"/mnt/bs_nsl/workspace/UAV-SAR/infogcn(FR_Head)/loss.py\", line 101, in get_mmd_loss\n",
      "    z_mean = torch.stack([z[y==i_cls].mean(dim=0) for i_cls in range(num_cls)], dim=0)\n",
      "  File \"/mnt/bs_nsl/workspace/UAV-SAR/infogcn(FR_Head)/loss.py\", line 101, in <listcomp>\n",
      "    z_mean = torch.stack([z[y==i_cls].mean(dim=0) for i_cls in range(num_cls)], dim=0)\n",
      "KeyboardInterrupt\n"
     ]
    }
   ],
   "source": [
    "!python main.py --config ./config/uav_csv1/FR_Head_1.yaml --half True"
   ]
  },
  {
   "cell_type": "code",
   "execution_count": null,
   "metadata": {},
   "outputs": [],
   "source": []
  }
 ],
 "metadata": {
  "kernelspec": {
   "display_name": ".venv",
   "language": "python",
   "name": "python3"
  },
  "language_info": {
   "codemirror_mode": {
    "name": "ipython",
    "version": 3
   },
   "file_extension": ".py",
   "mimetype": "text/x-python",
   "name": "python",
   "nbconvert_exporter": "python",
   "pygments_lexer": "ipython3",
   "version": "3.10.12"
  }
 },
 "nbformat": 4,
 "nbformat_minor": 2
}
